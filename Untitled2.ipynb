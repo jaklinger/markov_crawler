{
 "cells": [
  {
   "cell_type": "code",
   "execution_count": 1,
   "metadata": {
    "collapsed": true
   },
   "outputs": [],
   "source": [
    "%matplotlib inline\n",
    "\n",
    "from sqlalchemy import create_engine\n",
    "import pandas as pd"
   ]
  },
  {
   "cell_type": "code",
   "execution_count": 41,
   "metadata": {
    "collapsed": true
   },
   "outputs": [],
   "source": [
    "with open(\"db.config\") as f:\n",
    "    engine_url = f.read()\n",
    "engine = create_engine(engine_url)"
   ]
  },
  {
   "cell_type": "code",
   "execution_count": 42,
   "metadata": {
    "collapsed": true
   },
   "outputs": [],
   "source": [
    "conn = engine.connect()"
   ]
  },
  {
   "cell_type": "code",
   "execution_count": 4,
   "metadata": {
    "collapsed": true
   },
   "outputs": [],
   "source": [
    "df = pd.read_sql_table(\"page_scores\",con=conn)"
   ]
  },
  {
   "cell_type": "code",
   "execution_count": 8,
   "metadata": {
    "collapsed": false
   },
   "outputs": [
    {
     "name": "stdout",
     "output_type": "stream",
     "text": [
      "all 1389 0.732310032397408 0.676922\n",
      "degree 20 0.8841434500000002 0.8457165\n",
      "undergraduate 54 0.8885637777777778 0.7429725\n",
      "program 78 0.7956043205128207 0.7192385\n",
      "postgraduate 28 0.8167290357142856 0.8184359999999999\n",
      "course 31 0.8785677096774194 0.83484\n"
     ]
    }
   ],
   "source": [
    "words = [\"degree\",\"undergraduate\",\"program\",\"postgraduate\",\"course\"]\n",
    "print(\"all\",len(df),df[\"score\"].mean(),df[\"score\"].median())\n",
    "for word in words:\n",
    "    condition = df[\"page\"].apply(lambda x : word in x)\n",
    "    df[word] = condition\n",
    "    print(word,condition.sum(),df.loc[condition,\"score\"].mean(),df.loc[condition,\"score\"].median())\n"
   ]
  },
  {
   "cell_type": "code",
   "execution_count": 9,
   "metadata": {
    "collapsed": true
   },
   "outputs": [],
   "source": [
    "from sklearn.decomposition import PCA"
   ]
  },
  {
   "cell_type": "code",
   "execution_count": 12,
   "metadata": {
    "collapsed": false
   },
   "outputs": [],
   "source": [
    "pca = PCA()"
   ]
  },
  {
   "cell_type": "code",
   "execution_count": 27,
   "metadata": {
    "collapsed": false
   },
   "outputs": [],
   "source": [
    "_pca = pca.fit(y=df[\"score\"],X=df.drop([\"page\",\"score\"],axis=1))"
   ]
  },
  {
   "cell_type": "code",
   "execution_count": 28,
   "metadata": {
    "collapsed": false
   },
   "outputs": [
    {
     "data": {
      "text/plain": [
       "(array([[ 0.05382921,  0.52069903,  0.84704323,  0.07312036,  0.05609018],\n",
       "        [-0.15033098,  0.79705644, -0.49200978, -0.09670288,  0.30112548],\n",
       "        [-0.02371202, -0.18889254,  0.01240201,  0.6650792 ,  0.72199252],\n",
       "        [ 0.56589511, -0.13257993,  0.06200288, -0.60525463,  0.54037743],\n",
       "        [ 0.80851931,  0.20078774, -0.19090828,  0.42028379, -0.30478906]]),\n",
       " array([ 0.43315187,  0.1991888 ,  0.17670305,  0.10066942,  0.09028685]))"
      ]
     },
     "execution_count": 28,
     "metadata": {},
     "output_type": "execute_result"
    }
   ],
   "source": [
    "_pca.components_,_pca.explained_variance_ratio_"
   ]
  },
  {
   "cell_type": "code",
   "execution_count": 36,
   "metadata": {
    "collapsed": false
   },
   "outputs": [
    {
     "name": "stdout",
     "output_type": "stream",
     "text": [
      "undergraduate program 16 0.961013375\n",
      "undergraduate --program course 4 0.9340235\n",
      "postgraduate course 6 1.075928\n",
      "degree --postgraduate course 0 nan\n",
      "degree postgraduate --course 0 nan\n"
     ]
    }
   ],
   "source": [
    "import numpy as np\n",
    "word_combos = []\n",
    "for comps in _pca.components_:\n",
    "    condition = score_condition\n",
    "    all_words = []\n",
    "    for i,(word,comp) in enumerate(zip(words,comps)):\n",
    "        if np.fabs(comp) < 0.3:\n",
    "            continue\n",
    "        _condition = df[word]\n",
    "        if comp < 0:\n",
    "            word = \"--\"+word\n",
    "            _condition = ~_condition\n",
    "        if condition is None:\n",
    "            condition = _condition\n",
    "        else:\n",
    "            condition = condition & _condition\n",
    "        all_words.append(word)\n",
    "    word = \" \".join(all_words)\n",
    "    print(word,condition.sum(),df.loc[condition,\"score\"].mean())\n",
    "    \n",
    "#for i,j in word_combos:\n",
    "#    condition = df[\"page\"].apply(lambda x : (words[i] in x) and (words[j] in x))\n",
    "#    print(words[i],words[j],condition.sum(),df.loc[condition,\"score\"].mean(),df.loc[condition,\"score\"].median())\n",
    "    \n",
    "    "
   ]
  },
  {
   "cell_type": "code",
   "execution_count": 35,
   "metadata": {
    "collapsed": false
   },
   "outputs": [],
   "source": [
    "score_condition = df.score > df.score.median()"
   ]
  },
  {
   "cell_type": "code",
   "execution_count": 43,
   "metadata": {
    "collapsed": false
   },
   "outputs": [
    {
     "name": "stdout",
     "output_type": "stream",
     "text": [
      "[('html', 217), ('news', 143), ('research', 114), ('info', 94), ('us', 75), ('academics', 75), ('programs', 61), ('events', 57), ('undergraduate', 55), ('study', 46), ('education', 46), ('admissions', 44), ('student', 42), ('alumni', 40), ('campus', 38), ('college', 36), ('services', 35), ('2017', 35), ('students', 35), ('admission', 34), ('library', 32), ('life', 31), ('colleges', 30), ('explore', 30), ('schools', 29), ('uowd', 28), ('postgraduate', 28), ('staff', 28), ('international', 28), ('1', 27), ('media', 25), ('graduate', 25), ('details', 24), ('discover', 24), ('engineering', 24), ('academic', 23), ('information', 23), ('community', 21), ('contact', 21), ('courses', 21), ('registration', 20), ('degree', 19), ('new', 19), ('business', 18), ('stories', 18), ('aboutus', 18), ('health', 18), ('management', 18), ('support', 18), ('pharmacy', 17), ('prospectus', 17), ('faculty', 17), ('finance', 17), ('nr', 16), ('centers', 16), ('science', 15), ('event', 15), ('id', 15), ('administration', 14), ('department', 14), ('apply', 14), ('university', 14), ('search', 13), ('requirements', 13), ('current', 13), ('itemid', 13), ('200147', 13), ('aboutgmu', 13), ('departments', 13), ('recreation', 13), ('gallery', 13), ('highlights', 13), ('medicine', 13), ('athletics', 12), ('resources', 12), ('join', 12), ('center', 12), ('phd', 11), ('global', 11), ('conferences', 11), ('fees', 11), ('office', 11), ('vision', 11), ('collaborate', 11), ('welcome', 11), ('studies', 10), ('centre', 10), ('offerings', 10), ('privacy', 10), ('profiles', 10), ('social', 10), ('outreach', 10), ('taught', 10), ('governance', 10), ('technology', 10), ('dubai', 10), ('facilities', 9), ('physiotherapy', 9), ('program', 9), ('mission', 9)]\n"
     ]
    }
   ],
   "source": [
    "from collections import Counter\n",
    "import re\n",
    "from nltk.corpus import stopwords\n",
    "_stops = set(stopwords.words(\"english\"))\n",
    "\n",
    "def tokenize_alphanum(text):\n",
    "    words = list(filter(('').__ne__, re.split('[^a-zA-Z\\d]',text)))\n",
    "    words = [_w.lower() for _w in words if _w not in _stops]\n",
    "    return words\n",
    "\n",
    "df_topurl = pd.read_sql_table(\"top_urls\",con=conn)\n",
    "\n",
    "stop_urls = []\n",
    "for url in df_topurl[\"url\"].values:\n",
    "    stop_urls += tokenize_alphanum(url)\n",
    "stop_urls = set(stop_urls)\n",
    "\n",
    "words = []\n",
    "for url in df[\"page\"].values:\n",
    "    for w in tokenize_alphanum(url):\n",
    "        if w in stop_urls:\n",
    "            continue\n",
    "        words.append(w)\n",
    "c = Counter(words)\n",
    "print(c.most_common(100))"
   ]
  },
  {
   "cell_type": "code",
   "execution_count": 44,
   "metadata": {
    "collapsed": false
   },
   "outputs": [
    {
     "name": "stdout",
     "output_type": "stream",
     "text": [
      "all 1389 0.732310032397408 0.676922\n",
      "html 216 0.6522296574074071 0.636252\n",
      "news 119 0.6330109243697478 0.601589\n",
      "research 105 0.8150861523809523 0.777647\n",
      "info 111 0.7386720270270273 0.62502\n",
      "us 379 0.7272218100263849 0.68059\n",
      "academics 76 0.7739160789473682 0.7124014999999999\n",
      "programs 60 0.8029408333333332 0.7680845000000001\n",
      "events 46 0.6671676304347828 0.5984400000000001\n",
      "undergraduate 54 0.8885637777777778 0.7429725\n",
      "study 43 0.692840581395349 0.62842\n",
      "education 48 0.8439363333333331 0.730197\n",
      "admissions 34 0.6421593823529413 0.6373025\n",
      "student 78 0.6713316282051285 0.6350685\n",
      "alumni 35 0.6806436000000001 0.6879\n",
      "campus 36 0.6192070833333333 0.582479\n",
      "college 55 0.8857848000000003 0.764912\n",
      "services 33 0.6097316666666668 0.598385\n",
      "2017 38 0.7515563421052633 0.706468\n",
      "students 38 0.6787810789473685 0.6280815\n",
      "admission 57 0.7071173508771934 0.688213\n",
      "library 28 0.6316711071428571 0.599704\n",
      "life 23 0.6429141739130435 0.642378\n",
      "colleges 15 0.9984168666666667 0.812947\n",
      "explore 30 0.5931492333333335 0.5691815\n",
      "schools 32 1.025624125 0.9940405\n",
      "uowd 110 0.7947055545454544 0.7583645\n",
      "postgraduate 28 0.8167290357142856 0.8184359999999999\n",
      "staff 34 0.7863250588235295 0.7663755000000001\n",
      "international 28 0.5748133571428571 0.5508535\n",
      "1 224 0.6988064508928573 0.6204765\n",
      "media 13 0.6288717692307693 0.604155\n",
      "graduate 108 0.8346634351851848 0.7653805\n",
      "details 10 0.6976243999999999 0.680564\n",
      "discover 25 0.65237876 0.607322\n",
      "engineering 23 0.9009090434782607 0.867208\n",
      "academic 91 0.7640723516483515 0.712293\n",
      "information 21 0.8429603809523808 0.657077\n",
      "community 20 0.7043444500000001 0.689049\n",
      "contact 21 0.7815336190476191 0.744191\n",
      "courses 20 0.9946562499999999 0.9903145\n",
      "registration 19 0.7296707368421051 0.669251\n",
      "degree 20 0.8841434500000002 0.8457165\n",
      "new 130 0.6371258307692307 0.6021685\n",
      "business 17 0.7316135882352941 0.696299\n",
      "stories 18 0.6182570000000001 0.574882\n",
      "aboutus 18 0.783502388888889 0.7709105\n",
      "health 19 0.7016726842105262 0.640803\n",
      "management 18 0.8145365 0.839771\n",
      "support 20 0.59175285 0.5880605000000001\n",
      "pharmacy 11 0.7801923636363636 0.764912\n",
      "prospectus 17 0.8673637058823529 0.647728\n",
      "faculty 23 0.7263177391304351 0.70125\n",
      "finance 16 0.8744161875 0.5476575\n",
      "nr 18 0.6170531111111112 0.5663905\n",
      "centers 15 0.9730155333333333 0.927683\n",
      "science 20 0.7907929500000002 0.7227215\n",
      "event 58 0.6638549137931035 0.6125160000000001\n",
      "id 110 0.6450718818181819 0.6357444999999999\n",
      "administration 10 0.7409825999999999 0.73007\n",
      "department 28 0.7696826785714286 0.7693295\n",
      "apply 18 0.6850123333333333 0.6748775\n",
      "university 14 0.8966375714285716 0.8023910000000001\n",
      "search 121 0.784387768595041 0.756604\n",
      "requirements 13 0.7751466923076923 0.705803\n",
      "current 16 0.556925625 0.539333\n",
      "itemid 0 nan nan\n",
      "200147 13 0.5553920769230769 0.567313\n",
      "aboutgmu 13 0.7103863076923076 0.615242\n",
      "departments 13 0.7971139999999999 0.781635\n",
      "recreation 14 0.5894603571428572 0.581155\n",
      "gallery 13 0.6440433076923077 0.652866\n",
      "highlights 1 0.533173 0.533173\n",
      "medicine 8 0.774126375 0.690733\n",
      "athletics 11 0.5599515454545454 0.565296\n",
      "resources 13 0.7644579230769231 0.725308\n",
      "join 12 0.8103881666666667 0.8298995\n",
      "center 28 0.8141836785714285 0.7604505\n",
      "phd 8 0.8154316249999999 0.784463\n",
      "global 10 0.6379499 0.6220859999999999\n",
      "conferences 7 0.7468981428571428 0.664191\n",
      "fees 11 1.096299 0.672882\n",
      "office 14 0.7520441428571428 0.7095625\n",
      "vision 21 0.6714250476190478 0.621572\n",
      "collaborate 11 0.625358909090909 0.594193\n",
      "welcome 10 0.7196260999999999 0.604454\n",
      "studies 10 0.8259164 0.8437195\n",
      "centre 10 0.784276 0.648098\n",
      "offerings 10 0.7815609 0.72482\n",
      "privacy 10 0.7034480999999999 0.624061\n",
      "profiles 10 0.7475845999999999 0.7256149999999999\n",
      "social 10 0.704588 0.610085\n",
      "outreach 10 0.7643012999999999 0.768525\n",
      "taught 10 0.8167335 0.7927665\n",
      "governance 10 0.7353609999999998 0.6931965\n",
      "technology 12 0.6961447499999999 0.739663\n",
      "dubai 113 0.8017859823008849 0.758457\n",
      "facilities 9 0.877687 0.85441\n",
      "physiotherapy 9 0.7962332222222221 0.740233\n",
      "program 78 0.7956043205128207 0.7192385\n",
      "mission 75 0.7031573733333334 0.669251\n"
     ]
    }
   ],
   "source": [
    "words = [w for w,_ in c.most_common(100)]\n",
    "\n",
    "print(\"all\",len(df),df[\"score\"].mean(),df[\"score\"].median())\n",
    "for word in words:\n",
    "    condition = df[\"page\"].apply(lambda x : word in x)\n",
    "    df[word] = condition\n",
    "    print(word,condition.sum(),df.loc[condition,\"score\"].mean(),df.loc[condition,\"score\"].median())"
   ]
  },
  {
   "cell_type": "code",
   "execution_count": 45,
   "metadata": {
    "collapsed": true
   },
   "outputs": [],
   "source": [
    "_pca = pca.fit(y=df[\"score\"],X=df.drop([\"page\",\"score\"],axis=1))"
   ]
  },
  {
   "cell_type": "code",
   "execution_count": 48,
   "metadata": {
    "collapsed": false
   },
   "outputs": [
    {
     "name": "stdout",
     "output_type": "stream",
     "text": [
      "--research us --undergraduate --admissions engineering 9 0.8376451111111112\n",
      "--alumni admission postgraduate 2 0.9106405\n",
      "--information --registration --aboutus nr 5 0.8508682000000001\n",
      "--academic faculty --vision --facilities 12 0.8249941666666666\n",
      "--privacy program 49 0.9232779591836733\n",
      "uowd --health --requirements phd dubai 1 1.15658\n",
      "privacy --outreach --taught 4 0.9285022500000001\n",
      "--programs stories --gallery 7 0.766238857142857\n",
      "html --profiles 82 0.8222690121951223\n",
      "--1 physiotherapy 8 0.8118599999999999\n",
      "athletics 1 0.804669\n",
      "--aboutgmu 688 0.9271546700581399\n"
     ]
    }
   ],
   "source": [
    "import numpy as np\n",
    "word_combos = []\n",
    "for comps in _pca.components_:\n",
    "    condition = score_condition\n",
    "    all_words = []\n",
    "    for i,(word,comp) in enumerate(zip(words,comps)):\n",
    "        if np.fabs(comp) < 0.2:\n",
    "            continue\n",
    "        _condition = df[word]\n",
    "        if comp < 0:\n",
    "            word = \"--\"+word\n",
    "            _condition = ~_condition\n",
    "        if condition is None:\n",
    "            condition = _condition\n",
    "        else:\n",
    "            condition = condition & _condition\n",
    "        all_words.append(word)\n",
    "    word = \" \".join(all_words)\n",
    "    if condition.sum() == 0:\n",
    "        continue\n",
    "    print(word,condition.sum(),df.loc[condition,\"score\"].mean())"
   ]
  },
  {
   "cell_type": "code",
   "execution_count": null,
   "metadata": {
    "collapsed": true
   },
   "outputs": [],
   "source": []
  }
 ],
 "metadata": {
  "anaconda-cloud": {},
  "kernelspec": {
   "display_name": "Python [conda env:py35]",
   "language": "python",
   "name": "conda-env-py35-py"
  },
  "language_info": {
   "codemirror_mode": {
    "name": "ipython",
    "version": 3
   },
   "file_extension": ".py",
   "mimetype": "text/x-python",
   "name": "python",
   "nbconvert_exporter": "python",
   "pygments_lexer": "ipython3",
   "version": "3.5.2"
  }
 },
 "nbformat": 4,
 "nbformat_minor": 1
}
