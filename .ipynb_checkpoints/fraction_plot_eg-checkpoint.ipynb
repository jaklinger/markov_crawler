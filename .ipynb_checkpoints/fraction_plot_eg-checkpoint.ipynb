{
 "cells": [
  {
   "cell_type": "code",
   "execution_count": 5,
   "metadata": {
    "collapsed": false,
    "scrolled": true
   },
   "outputs": [
    {
     "ename": "ImportError",
     "evalue": "No module named 'plotting_libs'",
     "output_type": "error",
     "traceback": [
      "\u001b[0;31m---------------------------------------------------------------------------\u001b[0m",
      "\u001b[0;31mImportError\u001b[0m                               Traceback (most recent call last)",
      "\u001b[0;32m<ipython-input-5-b2bc2a750eb0>\u001b[0m in \u001b[0;36m<module>\u001b[0;34m()\u001b[0m\n\u001b[1;32m      1\u001b[0m \u001b[0mget_ipython\u001b[0m\u001b[0;34m(\u001b[0m\u001b[0;34m)\u001b[0m\u001b[0;34m.\u001b[0m\u001b[0mmagic\u001b[0m\u001b[0;34m(\u001b[0m\u001b[0;34m'matplotlib inline'\u001b[0m\u001b[0;34m)\u001b[0m\u001b[0;34m\u001b[0m\u001b[0m\n\u001b[0;32m----> 2\u001b[0;31m \u001b[0;32mfrom\u001b[0m \u001b[0mplotting_libs\u001b[0m \u001b[0;32mimport\u001b[0m \u001b[0mfraction_bar\u001b[0m \u001b[0;32mas\u001b[0m \u001b[0mfb\u001b[0m\u001b[0;34m\u001b[0m\u001b[0m\n\u001b[0m\u001b[1;32m      3\u001b[0m fb.fraction_bar(counts=[1,2,3,4],\n\u001b[1;32m      4\u001b[0m                 \u001b[0mlabels\u001b[0m\u001b[0;34m=\u001b[0m\u001b[0;34m(\u001b[0m\u001b[0;34m\"cat\"\u001b[0m\u001b[0;34m,\u001b[0m\u001b[0;34m\"dog\"\u001b[0m\u001b[0;34m,\u001b[0m\u001b[0;34m\"sheep\"\u001b[0m\u001b[0;34m,\u001b[0m\u001b[0;34m\"dinosaur\"\u001b[0m\u001b[0;34m)\u001b[0m\u001b[0;34m,\u001b[0m\u001b[0;34m\u001b[0m\u001b[0m\n\u001b[1;32m      5\u001b[0m                 title=\"Animals\")\n",
      "\u001b[0;31mImportError\u001b[0m: No module named 'plotting_libs'"
     ]
    }
   ],
   "source": [
    "%matplotlib inline\n",
    "from plotting_libs import fraction_bar as fb\n",
    "fb.fraction_bar(counts=[1,2,3,4],\n",
    "                labels=(\"cat\",\"dog\",\"sheep\",\"dinosaur\"),\n",
    "                title=\"Animals\")"
   ]
  },
  {
   "cell_type": "code",
   "execution_count": 70,
   "metadata": {
    "collapsed": false
   },
   "outputs": [
    {
     "data": {
      "text/plain": [
       "<matplotlib.axes._subplots.AxesSubplot at 0x112da9320>"
      ]
     },
     "execution_count": 70,
     "metadata": {},
     "output_type": "execute_result"
    },
    {
     "data": {
      "image/png": "[encoded data removed]",
      "text/plain": [
       "<matplotlib.figure.Figure at 0x111da09b0>"
      ]
     },
     "metadata": {},
     "output_type": "display_data"
    },
    {
     "data": {
      "image/png": "[encoded data removed]",
      "text/plain": [
       "<matplotlib.figure.Figure at 0x111da07b8>"
      ]
     },
     "metadata": {},
     "output_type": "display_data"
    }
   ],
   "source": [
    "# from matplotlib import pyplot as plt\n",
    "# from matplotlib.patches import Rectangle\n",
    "# from itertools import cycle\n",
    "\n",
    "# def fraction_bar(counts,labels,ax=None,cmap_name=\"Dark2\",\n",
    "#                  legend=True,horizontal=True,title=\"\",number=False):\n",
    "    \n",
    "#     # Get an axis\n",
    "#     if ax is None:\n",
    "#         figsize = (10,1)\n",
    "#         if not horizontal:\n",
    "#             figsize = (1,10) \n",
    "#         fig,ax = plt.subplots(figsize=figsize)\n",
    "\n",
    "#     # Assign colours\n",
    "#     colors = plt.get_cmap(cmap_name).colors\n",
    "\n",
    "#     # Make the bars\n",
    "#     x0 = 0\n",
    "#     for n,lab,col in zip(counts,labels,cycle(colors)):\n",
    "#         if horizontal:\n",
    "#             rect = Rectangle((x0,0),x0+n,1,facecolor=col,label=lab)\n",
    "#         else:\n",
    "#             rect = Rectangle((0,x0),1,x0+n,facecolor=col,label=lab)\n",
    "#         ax.add_patch(rect)\n",
    "#         x0 += n\n",
    "\n",
    "#     # Set axis limits and set the legend\n",
    "#     ax.axis('off')\n",
    "#     if horizontal:\n",
    "#         ax.set_ylim(0,1)\n",
    "#         ax.set_xlim(0,x0)\n",
    "#         if legend:\n",
    "#             leg = ax.legend(loc='center left', bbox_to_anchor=(1, 0.5),title=title)\n",
    "#     else:\n",
    "#         ax.set_xlim(0,1)\n",
    "#         ax.set_ylim(0,x0)\n",
    "#         if legend:\n",
    "#             word_height = 0.012\n",
    "#             n_words = len(counts) + int(title != \"\")\n",
    "#             box_height = 1 + (word_height*n_words) + word_height*2\n",
    "#             leg = ax.legend(loc='center left', bbox_to_anchor=(-0.15,box_height),title=title)\n",
    "#     # Return\n",
    "#     return ax\n",
    "\n",
    "# if __name__ == \"__main__\":\n",
    "#     fraction_bar([1,2,3,4],(\"cat\",\"dog\",\"sheep\",\"dinosaur\"),title=\"Animals\")\n",
    "#     fraction_bar([1,2,3],(\"cat\",\"dog\",\"sheep\"),title=\"\",horizontal=False,cmap_name=\"Accent\")"
   ]
  },
  {
   "cell_type": "code",
   "execution_count": null,
   "metadata": {
    "collapsed": true
   },
   "outputs": [],
   "source": []
  },
  {
   "cell_type": "code",
   "execution_count": null,
   "metadata": {
    "collapsed": true
   },
   "outputs": [],
   "source": []
  }
 ],
 "metadata": {
  "kernelspec": {
   "display_name": "Python [conda env:py35]",
   "language": "python",
   "name": "conda-env-py35-py"
  }
 },
 "nbformat": 4,
 "nbformat_minor": 1
}
